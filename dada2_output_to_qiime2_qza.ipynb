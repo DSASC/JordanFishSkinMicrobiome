{
 "cells": [
  {
   "cell_type": "markdown",
   "metadata": {},
   "source": [
    "#### Reformat DADA2 output as QIIME2 QZA files\n",
    "This includes the replacement of sequence IDs with MD5 hashes"
   ]
  },
  {
   "cell_type": "code",
   "execution_count": 2,
   "metadata": {},
   "outputs": [],
   "source": [
    "import pandas as pd\n",
    "import hashlib\n",
    "from Bio import SeqIO"
   ]
  },
  {
   "cell_type": "markdown",
   "metadata": {},
   "source": [
    "#### reformat the feature table"
   ]
  },
  {
   "cell_type": "code",
   "execution_count": 3,
   "metadata": {},
   "outputs": [],
   "source": [
    "df = pd.read_csv('dada_table.csv',index_col=0).transpose()\n",
    "df.index = [hashlib.md5(i).hexdigest() for i in df.index]\n",
    "df.index.name = '#Feature_id'\n",
    "df.to_csv('temp',sep='\\t')\n",
    "\n",
    "!biom convert -i temp -o dada_table.biom --table-type=\"OTU table\" --to-hdf5\n",
    "!rm temp"
   ]
  },
  {
   "cell_type": "code",
   "execution_count": 4,
   "metadata": {},
   "outputs": [
    {
     "name": "stdout",
     "output_type": "stream",
     "text": [
      "Imported dada_table.biom as BIOMV210Format to dada_table.qza\n"
     ]
    },
    {
     "name": "stderr",
     "output_type": "stream",
     "text": [
      "QIIME is caching your current deployment for improved performance. This may take a few moments and should only happen once per deployment.\n"
     ]
    }
   ],
   "source": [
    "%%bash\n",
    "source activate qiime2-2019.4 && \\\n",
    "  qiime tools import \\\n",
    "  --input-path dada_table.biom \\\n",
    "  --type 'FeatureTable[Frequency]' \\\n",
    "  --input-format BIOMV210Format \\\n",
    "  --output-path dada_table.qza"
   ]
  },
  {
   "cell_type": "code",
   "execution_count": 5,
   "metadata": {},
   "outputs": [
    {
     "name": "stdout",
     "output_type": "stream",
     "text": [
      "Saved Visualization to: dada_table.qzv\n"
     ]
    }
   ],
   "source": [
    "%%bash\n",
    "source activate qiime2-2019.4 && \\\n",
    "  qiime feature-table summarize \\\n",
    "  --i-table dada_table.qza \\\n",
    "  --o-visualization dada_table.qzv"
   ]
  },
  {
   "cell_type": "markdown",
   "metadata": {},
   "source": [
    "#### Reformat the representative sequences"
   ]
  },
  {
   "cell_type": "code",
   "execution_count": 6,
   "metadata": {},
   "outputs": [
    {
     "data": {
      "text/plain": [
       "28142"
      ]
     },
     "execution_count": 6,
     "metadata": {},
     "output_type": "execute_result"
    }
   ],
   "source": [
    "repseqs = list(SeqIO.parse('dada-rep-seqs.fasta','fasta'))\n",
    "for r in repseqs:\n",
    "    r.id = hashlib.md5(str(r.seq)).hexdigest()\n",
    "    r.description = ''\n",
    "SeqIO.write(repseqs,'temp','fasta')"
   ]
  },
  {
   "cell_type": "code",
   "execution_count": 7,
   "metadata": {},
   "outputs": [
    {
     "name": "stdout",
     "output_type": "stream",
     "text": [
      "Imported temp as DNASequencesDirectoryFormat to dada-rep-seqs.qza\n"
     ]
    }
   ],
   "source": [
    "%%bash\n",
    "source activate qiime2-2019.4 && \\\n",
    "  qiime tools import \\\n",
    "  --input-path temp \\\n",
    "  --output-path dada-rep-seqs.qza \\\n",
    "  --type 'FeatureData[Sequence]'\n",
    "rm temp"
   ]
  },
  {
   "cell_type": "markdown",
   "metadata": {},
   "source": [
    "#### Reformat the taxonomy table"
   ]
  },
  {
   "cell_type": "code",
   "execution_count": 8,
   "metadata": {},
   "outputs": [],
   "source": [
    "with open('temp.tsv','wt') as hndl:\n",
    "    first = True\n",
    "    for l in open('dada_taxa.csv'):\n",
    "        if l.startswith('\"\"'):\n",
    "            continue\n",
    "        if first:\n",
    "            first=False\n",
    "        else:\n",
    "            hndl.write('\\n')\n",
    "        parts = l.rstrip().replace('\"','').split(',')\n",
    "        hndl.write(hashlib.md5(str(parts.pop(0))).hexdigest())\n",
    "        hndl.write('\\t')\n",
    "        hndl.write(';'.join(parts))"
   ]
  },
  {
   "cell_type": "code",
   "execution_count": 9,
   "metadata": {},
   "outputs": [
    {
     "name": "stdout",
     "output_type": "stream",
     "text": [
      "Imported temp.tsv as HeaderlessTSVTaxonomyFormat to dada_taxa.qza\n"
     ]
    },
    {
     "name": "stderr",
     "output_type": "stream",
     "text": [
      "QIIME is caching your current deployment for improved performance. This may take a few moments and should only happen once per deployment.\n"
     ]
    }
   ],
   "source": [
    "%%bash\n",
    "source activate qiime2-2019.4 && \\\n",
    " qiime tools import \\\n",
    " --type FeatureData[Taxonomy] \\\n",
    " --input-path temp.tsv \\\n",
    " --output-path dada_taxa.qza \\\n",
    " --input-format HeaderlessTSVTaxonomyFormat\n",
    "rm temp.tsv"
   ]
  },
  {
   "cell_type": "code",
   "execution_count": null,
   "metadata": {},
   "outputs": [],
   "source": []
  }
 ],
 "metadata": {
  "kernelspec": {
   "display_name": "Python 2",
   "language": "python",
   "name": "python2"
  },
  "language_info": {
   "codemirror_mode": {
    "name": "ipython",
    "version": 2
   },
   "file_extension": ".py",
   "mimetype": "text/x-python",
   "name": "python",
   "nbconvert_exporter": "python",
   "pygments_lexer": "ipython2",
   "version": "2.7.16"
  }
 },
 "nbformat": 4,
 "nbformat_minor": 2
}
