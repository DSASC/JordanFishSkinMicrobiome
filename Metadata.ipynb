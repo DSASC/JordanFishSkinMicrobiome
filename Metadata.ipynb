{
 "cells": [
  {
   "cell_type": "markdown",
   "metadata": {},
   "source": [
    "#### Add formal location codes and corrected species names"
   ]
  },
  {
   "cell_type": "code",
   "execution_count": 6,
   "metadata": {},
   "outputs": [],
   "source": [
    "import pandas as pd\n",
    "\n",
    "metadata = pd.read_table('fish_samples_metadata.tsv',index_col=0)\n",
    "\n",
    "def get_loc_code(string):\n",
    "    locations = {'AgmonHula':'J.4',\n",
    "                 'AsiCemetery':'A',\n",
    "                 'BaniasFall':'H.0.5',\n",
    "                 'BaniasReserveDown':'H.0.2',\n",
    "                 'BaniasReserveUp':'H.0.1',\n",
    "                 'GomeJunction':'J.3',\n",
    "                 'HuliotSnirXJordan':'J.2',\n",
    "                 'InsideKtzinim':'H.1',\n",
    "                 'NabiYuda':'H.0.6',\n",
    "                 'SnirDagAlHadanUpStrerm':'S.2',\n",
    "                 'SnirHydrometricMaayanBaruch':'S.1',\n",
    "                 'SnirYatedotDownstrerm':'S.3',\n",
    "                 'StreemNextToKtzinim':'H.0.4',\n",
    "                 'TelSaharonDown':'T.1',\n",
    "                 'TelSaharonSpring':'T.2',\n",
    "                 'lehavotHabashan':'J.1'}\n",
    "    try:\n",
    "        return locations[string]\n",
    "    except:\n",
    "        return 'NTC'\n",
    "\n",
    "metadata['Sampling site'] = metadata.Location.apply(get_loc_code)\n",
    "metadata.to_csv('fish_samples_metadata_loc_code.tsv',sep='\\t')\n",
    "\n",
    "metadata = pd.read_table('fish_samples_metadata_loc_code.tsv',index_col=0)\n",
    "metadata = metadata.replace(to_replace='Nemacheilus dori', value='Oxynoemacheilus insignis')\n",
    "metadata = metadata.replace(to_replace='Nemacheilus jordanicus', value='Oxynoemacheilus insignis')\n",
    "metadata = metadata.replace(to_replace='Mugil cephalus', value='Mugil liza')\n",
    "metadata = metadata.replace(to_replace='Barbus canis', value='Carasobarbus canis')\n",
    "\n",
    "metadata['Stream'] = metadata['Sampling site'].str[0]\n",
    "\n",
    "def fix_swab(string):\n",
    "    if string == 'swab':\n",
    "        return 'Swab'\n",
    "    return string\n",
    "    \n",
    "metadata['type'] = metadata['type'].apply(fix_swab)\n",
    "\n",
    "metadata.to_csv('fish_samples_metadata_loc_code_correct_sp.tsv',sep='\\t')"
   ]
  },
  {
   "cell_type": "code",
   "execution_count": null,
   "metadata": {},
   "outputs": [],
   "source": []
  }
 ],
 "metadata": {
  "kernelspec": {
   "display_name": "Python 2",
   "language": "python",
   "name": "python2"
  },
  "language_info": {
   "codemirror_mode": {
    "name": "ipython",
    "version": 2
   },
   "file_extension": ".py",
   "mimetype": "text/x-python",
   "name": "python",
   "nbconvert_exporter": "python",
   "pygments_lexer": "ipython2",
   "version": "2.7.16"
  }
 },
 "nbformat": 4,
 "nbformat_minor": 2
}
