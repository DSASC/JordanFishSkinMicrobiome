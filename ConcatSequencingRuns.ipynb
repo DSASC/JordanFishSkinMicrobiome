{
 "cells": [
  {
   "cell_type": "markdown",
   "metadata": {},
   "source": [
    "### Merge files from two separate MiSeq lanes\n",
    "Concatenate files from two run, e.g., for samples AS101, concatenate file R1 form the first and run to R1 from second sequencing run."
   ]
  },
  {
   "cell_type": "code",
   "execution_count": 2,
   "metadata": {},
   "outputs": [],
   "source": [
    "import glob\n",
    "from os import path\n",
    "\n",
    "!mkdir concat\n",
    "\n",
    "for f in glob.glob('raw_reads/*.fastq.gz'):\n",
    "    filename = f.split('/')[-1].replace('.gz','')\n",
    "    f2 = 'raw_reads/core5_run2/%s.gz' % filename\n",
    "    concat = 'concat/%s' % filename\n",
    "    if path.exists(f2):\n",
    "        !zcat $f $f2 > $concat\n",
    "    else:\n",
    "        !zcat $f > $concat"
   ]
  }
 ],
 "metadata": {
  "kernelspec": {
   "display_name": "Python 2",
   "language": "python",
   "name": "python2"
  },
  "language_info": {
   "codemirror_mode": {
    "name": "ipython",
    "version": 2
   },
   "file_extension": ".py",
   "mimetype": "text/x-python",
   "name": "python",
   "nbconvert_exporter": "python",
   "pygments_lexer": "ipython2",
   "version": "2.7.16"
  }
 },
 "nbformat": 4,
 "nbformat_minor": 2
}
